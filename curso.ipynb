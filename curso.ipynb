{
 "cells": [
  {
   "cell_type": "markdown",
   "id": "e10f0ab5",
   "metadata": {},
   "source": [
    "# NLP basic tools\n",
    "## Tokenizer\n",
    "A tokenizer breaks a stream of text into tokens, usually by looking for whitespace (tabs, spaces, new lines).\n",
    "\n",
    "Substitution function (re.sub) takes three arguments:\n",
    "* substring to be replaced : `(\\w)([\\,\\.])`\n",
    "* replaced substring : `\\1 \\2`\n",
    "* string containing the substring to be replaced: `line`\n"
   ]
  },
  {
   "cell_type": "code",
   "execution_count": 36,
   "id": "6ba0db20",
   "metadata": {},
   "outputs": [
    {
     "name": "stdout",
     "output_type": "stream",
     "text": [
      "olá.\n",
      "olá .\n"
     ]
    }
   ],
   "source": [
    "line = input()\n",
    "print(re.sub(r\"(\\w)([\\,\\.])\",r\"\\1 \\2\",line))"
   ]
  },
  {
   "cell_type": "markdown",
   "id": "7bf32dd1",
   "metadata": {},
   "source": [
    "## Input / Output\n",
    "The script opens and reads an input file (flag: `r`), and the tokenized text is writen in an output file (flag: `w`)\n"
   ]
  },
  {
   "cell_type": "code",
   "execution_count": 34,
   "id": "f88fbe5d",
   "metadata": {},
   "outputs": [
    {
     "data": {
      "text/plain": [
       "397"
      ]
     },
     "execution_count": 34,
     "metadata": {},
     "output_type": "execute_result"
    }
   ],
   "source": [
    "file1 = open('corpus.txt', 'r')\n",
    "output=\"\"\n",
    "for line in file1:\n",
    "    #line = line.strip()\n",
    "    line = re.sub(r\"(\\w)([\\,\\.])\",r\"\\1 \\2\",line)\n",
    "    output += line\n",
    "\n",
    "file2 = open('tokens.txt', 'w')\n",
    "file2.write(output)"
   ]
  },
  {
   "cell_type": "markdown",
   "id": "fff60e20",
   "metadata": {},
   "source": [
    "## N-grams\n",
    "`ngrams.py` is a python file stored in our folder that generates n-grams (trigrams) from the tokens file"
   ]
  },
  {
   "cell_type": "code",
   "execution_count": 33,
   "id": "a9ff3dea",
   "metadata": {},
   "outputs": [
    {
     "name": "stdout",
     "output_type": "stream",
     "text": [
      "Pedro read books \r\n",
      "read books and \r\n",
      "books and Maria \r\n",
      "and Maria read \r\n",
      "Maria read books \r\n",
      "read books too \r\n",
      "books too , \r\n",
      "Pedro read novels \r\n",
      "read novels and \r\n",
      "novels and Maria \r\n",
      "and Maria read \r\n",
      "Maria read novels \r\n",
      "read novels and \r\n",
      "novels and books \r\n",
      "and books , \r\n",
      "Pedro and Maria \r\n",
      "and Maria read \r\n",
      "Maria read many \r\n",
      "read many things \r\n",
      "many things , \r\n",
      "things , but \r\n",
      ", but Pedro \r\n",
      "but Pedro loves \r\n",
      "Pedro loves Maria \r\n",
      "loves Maria , \r\n",
      "Maria loves books \r\n",
      "loves books , \r\n",
      "books , in \r\n",
      ", in fact \r\n",
      "in fact Maria \r\n",
      "fact Maria loves \r\n",
      "Maria loves many \r\n",
      "loves many things \r\n",
      "many things . \r\n",
      "Maria is eating \r\n",
      "is eating an \r\n",
      "eating an apple \r\n",
      "an apple and \r\n",
      "apple and Pedro \r\n",
      "and Pedro is \r\n",
      "Pedro is eating \r\n",
      "is eating an \r\n",
      "eating an apple \r\n",
      "an apple too \r\n",
      "apple too , \r\n",
      "Pedro is eating \r\n",
      "is eating eggs \r\n",
      "eating eggs now \r\n",
      "eggs now , \r\n",
      "now , Pedro \r\n",
      ", Pedro and \r\n",
      "Pedro and Maria \r\n",
      "and Maria are \r\n",
      "Maria are eating \r\n",
      "are eating many \r\n",
      "eating many things \r\n",
      "many things , \r\n",
      "Maria is eating \r\n",
      "is eating eggs \r\n",
      "eating eggs , \r\n",
      "eggs , Maria \r\n",
      ", Maria and \r\n",
      "Maria and Pedro \r\n",
      "and Pedro loves \r\n",
      "Pedro loves eggs \r\n",
      "loves eggs a \r\n",
      "eggs a lot \r\n",
      "a lot . \r\n"
     ]
    }
   ],
   "source": [
    "!python3 ngrams.py 3"
   ]
  }
 ],
 "metadata": {
  "kernelspec": {
   "display_name": "Python 3",
   "language": "python",
   "name": "python3"
  },
  "language_info": {
   "codemirror_mode": {
    "name": "ipython",
    "version": 3
   },
   "file_extension": ".py",
   "mimetype": "text/x-python",
   "name": "python",
   "nbconvert_exporter": "python",
   "pygments_lexer": "ipython3",
   "version": "3.6.9"
  }
 },
 "nbformat": 4,
 "nbformat_minor": 5
}
